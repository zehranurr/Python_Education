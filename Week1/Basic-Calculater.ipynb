{
 "cells": [
  {
   "cell_type": "markdown",
   "metadata": {},
   "source": [
    "Let's Take a user's input and print it "
   ]
  },
  {
   "cell_type": "code",
   "execution_count": 1,
   "metadata": {},
   "outputs": [
    {
     "name": "stdout",
     "output_type": "stream",
     "text": [
      "You entered: 6\n"
     ]
    }
   ],
   "source": [
    "number = input('Welcome, please enter a number ')\n",
    "print('You entered:',number)"
   ]
  },
  {
   "cell_type": "markdown",
   "metadata": {},
   "source": [
    "Question ? When we store number in input variable ,which type we stored"
   ]
  },
  {
   "cell_type": "code",
   "execution_count": 2,
   "metadata": {},
   "outputs": [
    {
     "name": "stdout",
     "output_type": "stream",
     "text": [
      "You entered: 9.0\n"
     ]
    }
   ],
   "source": [
    "number = float(input('Welcome, please enter a number ')) \n",
    "print('You entered:',number)"
   ]
  },
  {
   "cell_type": "markdown",
   "metadata": {},
   "source": [
    "as default  we stored as string so if we want to use it a number ,we should convert it\n"
   ]
  },
  {
   "cell_type": "markdown",
   "metadata": {},
   "source": [
    "op... We want to learn that user want which operation ?"
   ]
  },
  {
   "cell_type": "code",
   "execution_count": 3,
   "metadata": {},
   "outputs": [
    {
     "name": "stdout",
     "output_type": "stream",
     "text": [
      "9.0 * 9.0\n"
     ]
    }
   ],
   "source": [
    "number1 = float(input('Enter first number: ')) \n",
    "op = input('Enter operator (+,-,*,/,^): ') \n",
    "number2 = float(input('Enter second number: ')) \n",
    "print(number1,op,number2)"
   ]
  },
  {
   "cell_type": "code",
   "execution_count": 5,
   "metadata": {},
   "outputs": [],
   "source": [
    "def calculate(n1,n2,op):\n",
    "    if op == '+':\n",
    "        result = n1+n2\n",
    "    elif op == '-':\n",
    "        result = n1-n2\n",
    "    elif op == '*':\n",
    "        result =  n1*n2\n",
    "    elif op == '/':\n",
    "        result = n1/n2\n",
    "    elif op=='^':\n",
    "        result =  n1**n2\n",
    "\n",
    "    return result"
   ]
  },
  {
   "cell_type": "code",
   "execution_count": 6,
   "metadata": {},
   "outputs": [
    {
     "name": "stdout",
     "output_type": "stream",
     "text": [
      "5.0 * 6.0\n",
      "= 30.0\n"
     ]
    }
   ],
   "source": [
    "def calculate(n1,n2,op):\n",
    "    if op == '+':\n",
    "        result = n1+n2\n",
    "    elif op == '-':\n",
    "        result = n1-n2\n",
    "    elif op == '*':\n",
    "        result =  n1*n2\n",
    "    elif op == '/':\n",
    "        result = n1/n2\n",
    "    elif op=='^':\n",
    "        result =  n1**n2\n",
    "        \n",
    "    return result\n",
    "\n",
    "\n",
    "number1 = float(input('Enter first number: '))\n",
    "op = input('Enter operator (+,-,*,/,**): ')\n",
    "number2 = float(input('Enter second number: '))\n",
    "print(number1,op,number2)\n",
    "result=calculate(number1,number2,op)\n",
    "print('=',result)"
   ]
  }
 ],
 "metadata": {
  "kernelspec": {
   "display_name": "Python 3",
   "language": "python",
   "name": "python3"
  },
  "language_info": {
   "codemirror_mode": {
    "name": "ipython",
    "version": 3
   },
   "file_extension": ".py",
   "mimetype": "text/x-python",
   "name": "python",
   "nbconvert_exporter": "python",
   "pygments_lexer": "ipython3",
   "version": "3.11.4"
  }
 },
 "nbformat": 4,
 "nbformat_minor": 2
}
